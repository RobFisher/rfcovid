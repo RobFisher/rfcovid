{
 "metadata": {
  "language_info": {
   "codemirror_mode": {
    "name": "ipython",
    "version": 3
   },
   "file_extension": ".py",
   "mimetype": "text/x-python",
   "name": "python",
   "nbconvert_exporter": "python",
   "pygments_lexer": "ipython3",
   "version": "3.6.9-final"
  },
  "orig_nbformat": 2,
  "kernelspec": {
   "name": "python_defaultSpec_1601160070502",
   "display_name": "Python 3.6.9 64-bit",
   "metadata": {
    "interpreter": {
     "hash": "fd69f43f58546b570e94fd7eba7b65e6bcc7a5bbc4eab0408017d18902915d69"
    }
   }
  }
 },
 "nbformat": 4,
 "nbformat_minor": 2,
 "cells": [
  {
   "source": [
    "# Some interesting charts for Covid-19 in England"
   ],
   "cell_type": "markdown",
   "metadata": {}
  },
  {
   "cell_type": "code",
   "execution_count": null,
   "metadata": {},
   "outputs": [],
   "source": [
    "import os\n",
    "import datetime\n",
    "fetch_date = os.environ.get('TODAY', datetime.datetime.today().strftime('%Y-%m-%d'))\n",
    "fetch_time = os.environ.get('FETCH_TIME', 'a test run')"
   ]
  },
  {
   "cell_type": "code",
   "execution_count": null,
   "metadata": {},
   "outputs": [],
   "source": [
    "input_filename = 'covid_{}.csv'.format(fetch_date)"
   ]
  },
  {
   "cell_type": "code",
   "execution_count": null,
   "metadata": {},
   "outputs": [],
   "source": [
    "from IPython.core.display import display, HTML"
   ]
  },
  {
   "cell_type": "code",
   "execution_count": null,
   "metadata": {},
   "outputs": [],
   "source": [
    "display(HTML('<p>Data was fetched from coronavirus.data.gov.uk on {}.</p>'.format(fetch_time)))"
   ]
  },
  {
   "cell_type": "code",
   "execution_count": null,
   "metadata": {},
   "outputs": [],
   "source": [
    "import pandas as pd\n",
    "import matplotlib.pyplot as plt\n",
    "import matplotlib.dates as mdates\n",
    "from matplotlib.ticker import (MultipleLocator, FormatStrFormatter,\n",
    "                               AutoMinorLocator)"
   ]
  },
  {
   "cell_type": "code",
   "execution_count": null,
   "metadata": {},
   "outputs": [],
   "source": [
    "df = pd.read_csv(input_filename).dropna().set_index('date').sort_index()"
   ]
  },
  {
   "cell_type": "code",
   "execution_count": null,
   "metadata": {},
   "outputs": [],
   "source": [
    "def plot_chart(df, title):\n",
    "    ax = df.plot.line(title=title, figsize=(14,8))\n",
    "    ax.xaxis.set_minor_locator(MultipleLocator(1))\n",
    "    plt.xticks(rotation=45)\n",
    "    plt.grid(b=True, which='major', color='#666666', linestyle='-')\n",
    "    plt.grid(b=True, which='minor', color='#999999', linestyle='-', alpha=0.2)\n",
    "    ax.set_ylim(ymin=0)\n",
    "    plt.show()"
   ]
  },
  {
   "cell_type": "code",
   "execution_count": null,
   "metadata": {},
   "outputs": [],
   "source": [
    "df_hospital_last_60 = df[['hospitalCases']].tail(60)\n",
    "plot_chart(df_hospital_last_60, 'Cases in hospital over last 60 days')\n"
   ]
  },
  {
   "cell_type": "code",
   "execution_count": null,
   "metadata": {},
   "outputs": [],
   "source": [
    "df['cases 7 day mean'] = df['newCasesByPublishDate'].rolling(7).mean()\n",
    "df_cases_last_60 = df[['newCasesByPublishDate', 'cases 7 day mean']].tail(60)\n",
    "plot_chart(df_cases_last_60, 'Cases over last 60 days')"
   ]
  },
  {
   "cell_type": "code",
   "execution_count": null,
   "metadata": {},
   "outputs": [],
   "source": [
    "df['total tests'] = df.apply(lambda x: x['newPillarOneTestsByPublishDate'] + x['newPillarTwoTestsByPublishDate'], axis=1)\n",
    "df_test_last_60 = df[['newPillarOneTestsByPublishDate', 'newPillarTwoTestsByPublishDate', 'total tests']].tail(60)\n",
    "plot_chart(df_test_last_60, 'Tests over last 60 days')"
   ]
  },
  {
   "cell_type": "code",
   "execution_count": null,
   "metadata": {},
   "outputs": [],
   "source": [
    "df['percentage cases per test'] = df.apply(lambda x: x['newCasesByPublishDate'] * 100.0 / x['total tests'], axis=1)\n",
    "df['7 day mean percentage cases per test'] = df['percentage cases per test'].rolling(7).mean()\n",
    "df_cases_per_test_last_60 = df[['percentage cases per test', '7 day mean percentage cases per test']].tail(60)\n",
    "plot_chart(df_cases_per_test_last_60, '% Cases per test over last 60 days')"
   ]
  },
  {
   "cell_type": "code",
   "execution_count": null,
   "metadata": {},
   "outputs": [],
   "source": [
    "df_cases_per_test_all = df[['percentage cases per test', '7 day mean percentage cases per test']]\n",
    "plot_chart(df_cases_per_test_all, 'Cases per test all data')"
   ]
  },
  {
   "cell_type": "code",
   "execution_count": null,
   "metadata": {},
   "outputs": [],
   "source": [
    "df.to_csv('covid-processed-{}.csv'.format(fetch_date))"
   ]
  },
  {
   "cell_type": "code",
   "execution_count": null,
   "metadata": {},
   "outputs": [],
   "source": [
    "display(HTML('<p>Data in these charts: <a href=\"covid-processed-{}.csv\">covid-processed-{}.csv</a></p>'.format(\n",
    "    fetch_date, fetch_date)))\n",
    "display(HTML('<p><a href=\"https://github.com/RobFisher/rfcovid\">Source code</a>.</p>'))\n"
   ]
  }
 ]
}