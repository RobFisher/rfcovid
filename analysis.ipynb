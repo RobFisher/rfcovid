{
 "metadata": {
  "language_info": {
   "codemirror_mode": {
    "name": "ipython",
    "version": 3
   },
   "file_extension": ".py",
   "mimetype": "text/x-python",
   "name": "python",
   "nbconvert_exporter": "python",
   "pygments_lexer": "ipython3",
   "version": "3.6.9-final"
  },
  "orig_nbformat": 2,
  "kernelspec": {
   "name": "python36964bit3554c77b5f6d49cc81f54a606a88a9d6",
   "display_name": "Python 3.6.9 64-bit",
   "metadata": {
    "interpreter": {
     "hash": "fd69f43f58546b570e94fd7eba7b65e6bcc7a5bbc4eab0408017d18902915d69"
    }
   }
  }
 },
 "nbformat": 4,
 "nbformat_minor": 2,
 "cells": [
  {
   "source": [
    "# Some interesting charts for Covid-19 in England"
   ],
   "cell_type": "markdown",
   "metadata": {}
  },
  {
   "cell_type": "code",
   "execution_count": null,
   "metadata": {},
   "outputs": [],
   "source": [
    "import os\n",
    "import datetime\n",
    "fetch_date = os.environ.get('TODAY', 'test')\n",
    "fetch_time = os.environ.get('FETCH_TIME', 'a test run')"
   ]
  },
  {
   "cell_type": "code",
   "execution_count": null,
   "metadata": {},
   "outputs": [],
   "source": [
    "input_filename = 'covid_{}.csv'.format(fetch_date)"
   ]
  },
  {
   "cell_type": "code",
   "execution_count": null,
   "metadata": {},
   "outputs": [],
   "source": [
    "from IPython.core.display import display, HTML"
   ]
  },
  {
   "cell_type": "code",
   "execution_count": null,
   "metadata": {},
   "outputs": [],
   "source": [
    "display(HTML('<p>Data was fetched from coronavirus.data.gov.uk on {}.</p>'.format(fetch_time)))"
   ]
  },
  {
   "cell_type": "code",
   "execution_count": null,
   "metadata": {},
   "outputs": [],
   "source": [
    "import pandas as pd\n",
    "import matplotlib.pyplot as plt\n",
    "import matplotlib.dates as mdates\n",
    "from matplotlib.ticker import (MultipleLocator, FormatStrFormatter,\n",
    "                               AutoMinorLocator)"
   ]
  },
  {
   "cell_type": "code",
   "execution_count": null,
   "metadata": {},
   "outputs": [],
   "source": [
    "df = pd.read_csv(input_filename).set_index('date').sort_index()\n",
    "df.index = pd.to_datetime(df.index)"
   ]
  },
  {
   "cell_type": "code",
   "execution_count": null,
   "metadata": {},
   "outputs": [],
   "source": [
    "def plot_chart(df, title):\n",
    "    ax = df.plot.line(title=title, figsize=(14,8))\n",
    "    ax.grid(True, which='both')\n",
    "    plt.xticks(rotation=45)\n",
    "    ax.set_xlim(xmin=df.index[0])\n",
    "    ax.set_ylim(ymin=0)\n",
    "    plt.show()"
   ]
  },
  {
   "cell_type": "code",
   "execution_count": null,
   "metadata": {},
   "outputs": [],
   "source": [
    "df_hospital = df[['hospitalCases', 'covidOccupiedMVBeds', 'newDeaths28DaysByDeathDate']].dropna(how='all')\n",
    "plot_chart(df_hospital, 'Cases in hospital; occupied ventilators; deaths: all available data')"
   ]
  },
  {
   "cell_type": "code",
   "execution_count": null,
   "metadata": {},
   "outputs": [],
   "source": [
    "df_deaths = df[['newDeaths28DaysByDeathDate']].dropna()\n",
    "plot_chart(df_deaths, 'Deaths all available data')"
   ]
  },
  {
   "cell_type": "code",
   "execution_count": null,
   "metadata": {},
   "outputs": [],
   "source": [
    "df_hospital_last_60 = df[['hospitalCases', 'covidOccupiedMVBeds', 'newDeaths28DaysByDeathDate']].dropna(how='all').tail(60)\n",
    "plot_chart(df_hospital_last_60, 'Cases in hospital; occupied ventilators; deaths: over last 60 days')\n"
   ]
  },
  {
   "cell_type": "code",
   "execution_count": null,
   "metadata": {},
   "outputs": [],
   "source": [
    "df['deaths 7 day mean'] = df['newDeaths28DaysByDeathDate'].rolling(7).mean()\n",
    "df_deaths_last_60 = df[['newDeaths28DaysByDeathDate', 'deaths 7 day mean']].dropna().tail(60)\n",
    "plot_chart(df_deaths_last_60, 'Deaths over last 60 days')"
   ]
  },
  {
   "cell_type": "code",
   "execution_count": null,
   "metadata": {},
   "outputs": [],
   "source": [
    "df['occupied ventilators 7 day mean'] = df['covidOccupiedMVBeds'].rolling(7).mean()\n",
    "df_ventilators_last_60 = df[['covidOccupiedMVBeds', 'occupied ventilators 7 day mean']].dropna().tail(60)\n",
    "plot_chart(df_ventilators_last_60, 'Occupied ventilators over last 60 days')"
   ]
  },
  {
   "cell_type": "code",
   "execution_count": null,
   "metadata": {},
   "outputs": [],
   "source": [
    "df['cases 7 day mean'] = df['newCasesByPublishDate'].rolling(7).mean()\n",
    "df_cases_last_60 = df[['newCasesByPublishDate', 'cases 7 day mean']].dropna().tail(60)\n",
    "plot_chart(df_cases_last_60, 'Cases over last 60 days')"
   ]
  },
  {
   "cell_type": "code",
   "execution_count": null,
   "metadata": {},
   "outputs": [],
   "source": [
    "df['total tests'] = df.apply(lambda x: x['newPillarOneTestsByPublishDate'] + x['newPillarTwoTestsByPublishDate'], axis=1)\n",
    "df['total tests 7 day mean'] = df[['total tests']].rolling(7).mean()\n",
    "df_test_last_60 = df[['newPillarOneTestsByPublishDate', 'newPillarTwoTestsByPublishDate', 'total tests', 'total tests 7 day mean']].dropna(how='all').tail(60)\n",
    "plot_chart(df_test_last_60, 'Tests over last 60 days')"
   ]
  },
  {
   "cell_type": "code",
   "execution_count": null,
   "metadata": {},
   "outputs": [],
   "source": [
    "df['percentage cases per test'] = df.apply(lambda x: x['newCasesByPublishDate'] * 100.0 / x['total tests'], axis=1)\n",
    "df['7 day mean percentage cases per test'] = df['percentage cases per test'].rolling(7).mean()\n",
    "df_cases_per_test_last_60 = df[['percentage cases per test', '7 day mean percentage cases per test']].dropna().tail(60)\n",
    "plot_chart(df_cases_per_test_last_60, '% Cases per test over last 60 days')"
   ]
  },
  {
   "cell_type": "code",
   "execution_count": null,
   "metadata": {},
   "outputs": [],
   "source": [
    "df_cases_per_test_all = df[['percentage cases per test', '7 day mean percentage cases per test']].dropna()\n",
    "plot_chart(df_cases_per_test_all, 'Cases per test all data')"
   ]
  },
  {
   "cell_type": "code",
   "execution_count": null,
   "metadata": {},
   "outputs": [],
   "source": [
    "df.to_csv('covid-processed-{}.csv'.format(fetch_date))"
   ]
  },
  {
   "source": [
    "## Second wave compared with first wave (experimental)\n"
   ],
   "cell_type": "markdown",
   "metadata": {}
  },
  {
   "cell_type": "code",
   "execution_count": null,
   "metadata": {},
   "outputs": [],
   "source": [
    "def wave_comparison(df, input_axis_name, output_axis_suffix, wave_2_start_date, wave_1_start_date=None, wave_index_offset=1):\n",
    "    df_wave_comparison = pd.DataFrame()\n",
    "    wave_1_axis_name = 'wave {} {}'.format(0 + wave_index_offset, output_axis_suffix)\n",
    "    wave_2_axis_name = 'wave {} {}'.format(1 + wave_index_offset, output_axis_suffix)\n",
    "    if wave_1_start_date is None:\n",
    "        df_wave_comparison[wave_1_axis_name] = df[input_axis_name].dropna()\n",
    "        wave_1_start_date = df_wave_comparison.index[0].strftime('%Y-%m-%d')\n",
    "    else:\n",
    "        df_wave_comparison[wave_1_axis_name] = df[input_axis_name][wave_1_start_date : ]\n",
    "    df_wave_comparison.reset_index(drop=True, inplace=True)\n",
    "    df_wave_comparison[wave_2_axis_name] = df[input_axis_name][wave_2_start_date : ].reset_index(drop=True)\n",
    "    wave_1_start_cases = int(df_wave_comparison[wave_1_axis_name][0])\n",
    "    wave_2_start_cases = int(df_wave_comparison[wave_2_axis_name][0])\n",
    "    display(HTML(\"\"\"\n",
    "        <p>\n",
    "        On {wave_1_start_date} there were {wave_1_start_cases} {output_axis_suffix}.\n",
    "        On {wave_2_start_date} there were {wave_2_start_cases} {output_axis_suffix}.\n",
    "        This chart compares what happened over proceding days starting from those two dates.\n",
    "        </p>\n",
    "        \"\"\".format(**locals())))\n",
    "    return df_wave_comparison\n"
   ]
  },
  {
   "cell_type": "code",
   "execution_count": null,
   "metadata": {},
   "outputs": [],
   "source": [
    "def plot_wave_comparison(df, units):\n",
    "    days_of_overlap = df.count().min()\n",
    "    df_to_plot = df.head(days_of_overlap * 2)\n",
    "    minimum_value = int(df.min(axis=1)[0])\n",
    "    plot_chart(\n",
    "        df_to_plot,\n",
    "        'Waves in {units} by days since at least {minimum_value} {units}'.format(**locals())\n",
    "    )"
   ]
  },
  {
   "cell_type": "code",
   "execution_count": null,
   "metadata": {},
   "outputs": [],
   "source": [
    "df_waves_by_hospital_cases = wave_comparison(df, 'hospitalCases', 'hospital cases', '2021-06-10', '2020-09-16', 2)"
   ],
   "outputs": [],
   "metadata": {}
  },
  {
   "cell_type": "code",
   "execution_count": null,
   "metadata": {},
   "outputs": [],
   "source": [
    "plot_wave_comparison(df_waves_by_hospital_cases, 'hospital cases')"
   ]
  },
  {
   "cell_type": "code",
   "execution_count": null,
   "metadata": {},
   "outputs": [],
   "source": [
    "df_waves_by_ventilator_cases = wave_comparison(df, 'covidOccupiedMVBeds', 'occupied ventilator beds', '2021-06-10', '2020-09-20', 2)"
   ],
   "outputs": [],
   "metadata": {}
  },
  {
   "source": [
    "Note that the start date for wave 2 used here is arbitrary since it has not yet reached the minimum number of occupied ventilator beds at the start of the available data."
   ],
   "cell_type": "markdown",
   "metadata": {}
  },
  {
   "cell_type": "code",
   "execution_count": null,
   "metadata": {},
   "outputs": [],
   "source": [
    "plot_wave_comparison(df_waves_by_ventilator_cases, 'occupied ventilator beds')"
   ]
  },
  {
   "cell_type": "code",
   "execution_count": null,
   "metadata": {},
   "outputs": [],
   "source": [
    "df_waves_by_deaths = wave_comparison(df, 'newDeaths28DaysByDeathDate', 'deaths', '2021-06-10', '2020-09-11', 2)"
   ],
   "outputs": [],
   "metadata": {}
  },
  {
   "source": [
    "Note that the choice of 50 for the start of a wave is arbitrary."
   ],
   "cell_type": "markdown",
   "metadata": {}
  },
  {
   "cell_type": "code",
   "execution_count": null,
   "metadata": {},
   "outputs": [],
   "source": [
    "plot_wave_comparison(df_waves_by_deaths, 'deaths')"
   ]
  },
  {
   "cell_type": "code",
   "execution_count": null,
   "metadata": {},
   "outputs": [],
   "source": [
    "df_waves_by_cases = wave_comparison(df, 'newCasesByPublishDate', 'cases', '2021-06-02', '2020-09-16', 2)"
   ],
   "outputs": [],
   "metadata": {}
  },
  {
   "source": [
    "The choice of 1000 cases for the start of a wave is arbitrary."
   ],
   "cell_type": "markdown",
   "metadata": {}
  },
  {
   "cell_type": "code",
   "execution_count": null,
   "metadata": {},
   "outputs": [],
   "source": [
    "plot_wave_comparison(df_waves_by_cases, 'cases')"
   ]
  },
  {
   "cell_type": "code",
   "execution_count": null,
   "metadata": {},
   "outputs": [],
   "source": [
    "df_waves_by_cases_smoothed = wave_comparison(df, 'cases 7 day mean', '7 day mean cases', '2021-06-02', '2020-09-16', 2)"
   ],
   "outputs": [],
   "metadata": {}
  },
  {
   "source": [
    "The choice of start dates is arbitrary."
   ],
   "cell_type": "markdown",
   "metadata": {}
  },
  {
   "cell_type": "code",
   "execution_count": null,
   "metadata": {},
   "outputs": [],
   "source": [
    "plot_wave_comparison(df_waves_by_cases_smoothed, '7 day mean cases')"
   ]
  },
  {
   "cell_type": "code",
   "execution_count": null,
   "metadata": {},
   "outputs": [],
   "source": [
    "display(HTML('<p>Data in these charts: <a href=\"covid-processed-{}.csv\">covid-processed-{}.csv</a></p>'.format(\n",
    "    fetch_date, fetch_date)))\n",
    "display(HTML('<p><a href=\"https://github.com/RobFisher/rfcovid\">Source code</a>.</p>'))\n"
   ]
  },
  {
   "cell_type": "code",
   "execution_count": null,
   "metadata": {},
   "outputs": [],
   "source": []
  }
 ]
}